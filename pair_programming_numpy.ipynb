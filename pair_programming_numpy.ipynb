{
 "cells": [
  {
   "cell_type": "code",
   "execution_count": 3,
   "metadata": {},
   "outputs": [],
   "source": [
    "import numpy as np\n",
    "import random"
   ]
  },
  {
   "cell_type": "markdown",
   "metadata": {},
   "source": [
    "# Creación y Indexación:"
   ]
  },
  {
   "cell_type": "markdown",
   "metadata": {},
   "source": [
    "1. Crea un array 1D con 50 valores aleatorio del 10 al 99. Accede a los elementos en las posiciones múltiplos de 5."
   ]
  },
  {
   "cell_type": "code",
   "execution_count": 17,
   "metadata": {},
   "outputs": [
    {
     "data": {
      "text/plain": [
       "array([31, 34, 64, 74, 10, 34, 59, 16, 34, 20, 15, 33, 58, 94, 67, 34, 62,\n",
       "       34, 41, 46, 59, 94, 41, 71, 97, 22, 50, 25, 38, 82, 38, 33, 54, 87,\n",
       "       20, 27, 89, 19, 43, 83, 50, 74, 80, 53, 45, 76, 56, 59, 66, 77])"
      ]
     },
     "execution_count": 17,
     "metadata": {},
     "output_type": "execute_result"
    }
   ],
   "source": [
    "array_1 = np.random.randint(10, 99, size=50)\n",
    "array_1"
   ]
  },
  {
   "cell_type": "code",
   "execution_count": 18,
   "metadata": {},
   "outputs": [
    {
     "data": {
      "text/plain": [
       "array([10, 20, 67, 46, 97, 82, 20, 83, 45, 77])"
      ]
     },
     "execution_count": 18,
     "metadata": {},
     "output_type": "execute_result"
    }
   ],
   "source": [
    "array_1_5 = array_1[0::5]\n",
    "array_1_5"
   ]
  },
  {
   "cell_type": "code",
   "execution_count": 19,
   "metadata": {},
   "outputs": [
    {
     "data": {
      "text/plain": [
       "array([10, 20, 15, 50, 25, 20, 50, 80, 45])"
      ]
     },
     "execution_count": 19,
     "metadata": {},
     "output_type": "execute_result"
    }
   ],
   "source": [
    "condicion = array_1 % 5 == 0\n",
    "array_1[condicion]"
   ]
  },
  {
   "cell_type": "markdown",
   "metadata": {},
   "source": [
    "2. Crea un array 1D con 30 valores del 1 al 20 (ambos incluidos). Utiliza indexación para obtener los elementos en las posiciones impares."
   ]
  },
  {
   "cell_type": "code",
   "execution_count": 20,
   "metadata": {},
   "outputs": [
    {
     "data": {
      "text/plain": [
       "array([ 1,  2, 18,  8, 10,  3, 20, 11,  7, 15, 16,  7, 11, 18,  5, 19, 19,\n",
       "       18, 18, 17,  4, 17,  6, 15, 17, 18, 15,  3,  6,  3])"
      ]
     },
     "execution_count": 20,
     "metadata": {},
     "output_type": "execute_result"
    }
   ],
   "source": [
    "array_2 = np.random.randint(1, 21, size=30)\n",
    "array_2"
   ]
  },
  {
   "cell_type": "code",
   "execution_count": 30,
   "metadata": {},
   "outputs": [
    {
     "data": {
      "text/plain": [
       "array([ 2,  8,  3, 11, 15,  7, 18, 19, 18, 17, 17, 15, 18,  3,  3])"
      ]
     },
     "execution_count": 30,
     "metadata": {},
     "output_type": "execute_result"
    }
   ],
   "source": [
    "array_2[1::2]"
   ]
  },
  {
   "cell_type": "markdown",
   "metadata": {},
   "source": [
    "3. Crea un array 2D de forma (4, 6) con números aleatorios decimales (no deben estar comprendidos solo entre 0 y 1). Accede a la última fila de la matriz. Los decimales deben estar redondeados a 2 decimales."
   ]
  },
  {
   "cell_type": "code",
   "execution_count": 3,
   "metadata": {},
   "outputs": [
    {
     "data": {
      "text/plain": [
       "array([[0.51546295, 0.87908157, 0.5374099 , 0.09193773, 0.87722527,\n",
       "        0.73777932],\n",
       "       [0.78117998, 0.72306508, 0.39647567, 0.19842357, 0.26849983,\n",
       "        0.71843509],\n",
       "       [0.03980042, 0.45071225, 0.27279674, 0.32400746, 0.42137638,\n",
       "        0.84169406],\n",
       "       [0.68387998, 0.63897452, 0.57181023, 0.64971248, 0.09706406,\n",
       "        0.30008575]])"
      ]
     },
     "execution_count": 3,
     "metadata": {},
     "output_type": "execute_result"
    }
   ],
   "source": [
    "array_3 = np.random.random_sample((4,6))\n",
    "array_3"
   ]
  },
  {
   "cell_type": "code",
   "execution_count": 4,
   "metadata": {},
   "outputs": [
    {
     "data": {
      "text/plain": [
       "array([[0.52, 0.88, 0.54, 0.09, 0.88, 0.74],\n",
       "       [0.78, 0.72, 0.4 , 0.2 , 0.27, 0.72],\n",
       "       [0.04, 0.45, 0.27, 0.32, 0.42, 0.84],\n",
       "       [0.68, 0.64, 0.57, 0.65, 0.1 , 0.3 ]])"
      ]
     },
     "execution_count": 4,
     "metadata": {},
     "output_type": "execute_result"
    }
   ],
   "source": [
    "array_3_round = np.round(array_3, 2)\n",
    "array_3_round"
   ]
  },
  {
   "cell_type": "code",
   "execution_count": 5,
   "metadata": {},
   "outputs": [
    {
     "data": {
      "text/plain": [
       "array([4.68, 4.64, 4.57, 4.65, 4.1 , 4.3 ])"
      ]
     },
     "execution_count": 5,
     "metadata": {},
     "output_type": "execute_result"
    }
   ],
   "source": [
    "(array_3_round + 4)[-1]"
   ]
  },
  {
   "cell_type": "markdown",
   "metadata": {},
   "source": [
    "4. Crea un array NumPy 2D de forma (6, 4) con valores decimales entre 0 y 1. Accede a la segunda columna de la matriz. Los números deben estar redondeados a 2 decimales."
   ]
  },
  {
   "cell_type": "code",
   "execution_count": 43,
   "metadata": {},
   "outputs": [
    {
     "data": {
      "text/plain": [
       "array([[0.63497207, 0.16142692, 0.34521354, 0.42301881],\n",
       "       [0.58784827, 0.46243581, 0.02810132, 0.29989571],\n",
       "       [0.18461122, 0.00850362, 0.35680854, 0.99291984],\n",
       "       [0.03992472, 0.27695721, 0.45224617, 0.14355969],\n",
       "       [0.0100103 , 0.12842719, 0.48907616, 0.01197747],\n",
       "       [0.75955434, 0.25621831, 0.78743948, 0.56589438]])"
      ]
     },
     "execution_count": 43,
     "metadata": {},
     "output_type": "execute_result"
    }
   ],
   "source": [
    "array_4 = np.random.random_sample((6,4))\n",
    "array_4"
   ]
  },
  {
   "cell_type": "code",
   "execution_count": 55,
   "metadata": {},
   "outputs": [
    {
     "data": {
      "text/plain": [
       "array([0.16, 0.46, 0.01, 0.28, 0.13, 0.26])"
      ]
     },
     "execution_count": 55,
     "metadata": {},
     "output_type": "execute_result"
    }
   ],
   "source": [
    "np.around(array_4, 2)[:, 1]"
   ]
  },
  {
   "cell_type": "markdown",
   "metadata": {},
   "source": [
    "5. Crea un array 1D con 30 valores enteros aleatorios entre -50 y 50. Extrae los valores negativos."
   ]
  },
  {
   "cell_type": "code",
   "execution_count": 4,
   "metadata": {},
   "outputs": [
    {
     "data": {
      "text/plain": [
       "array([  0, -14,  -4,   2, -11,  34, -10,   6,   0,  28,   3, -46,  -5,\n",
       "        43, -12,  44,  -9, -47, -18, -39,   7, -18,  41,  19, -15, -17,\n",
       "       -25, -47,  42, -25])"
      ]
     },
     "execution_count": 4,
     "metadata": {},
     "output_type": "execute_result"
    }
   ],
   "source": [
    "array_5 = np.random.randint(-50, 55, size=30)\n",
    "array_5"
   ]
  },
  {
   "cell_type": "code",
   "execution_count": 7,
   "metadata": {},
   "outputs": [
    {
     "data": {
      "text/plain": [
       "array([-14,  -4, -11, -10, -46,  -5, -12,  -9, -47, -18, -39, -18, -15,\n",
       "       -17, -25, -47, -25])"
      ]
     },
     "execution_count": 7,
     "metadata": {},
     "output_type": "execute_result"
    }
   ],
   "source": [
    "array_5[array_5 < 0]"
   ]
  },
  {
   "cell_type": "markdown",
   "metadata": {},
   "source": [
    "6. Crea un array 1D con 10 valores entre 0 y 1. Redondea los decimales a 2. Obtén los elementos cuyo valor es mayor que 0.5. ¿En que posición/es están esos elementos?"
   ]
  },
  {
   "cell_type": "code",
   "execution_count": 16,
   "metadata": {},
   "outputs": [
    {
     "data": {
      "text/plain": [
       "array([0.42, 0.1 , 0.28, 0.7 , 0.32, 0.81, 0.08, 0.78, 0.15, 0.97])"
      ]
     },
     "execution_count": 16,
     "metadata": {},
     "output_type": "execute_result"
    }
   ],
   "source": [
    "array_6 = np.random.rand(10)\n",
    "array_6_round = np.round(array_6, 2)\n",
    "array_6_round\n",
    "\n"
   ]
  },
  {
   "cell_type": "code",
   "execution_count": 17,
   "metadata": {},
   "outputs": [
    {
     "data": {
      "text/plain": [
       "array([0.7 , 0.81, 0.78, 0.97])"
      ]
     },
     "execution_count": 17,
     "metadata": {},
     "output_type": "execute_result"
    }
   ],
   "source": [
    "array_mayores = array_6_round[array_6_round>0.5] #obtenemos los elementos cuyo valor es mayor 0.5\n",
    "array_mayores"
   ]
  },
  {
   "cell_type": "code",
   "execution_count": 18,
   "metadata": {},
   "outputs": [
    {
     "data": {
      "text/plain": [
       "(array([3, 5, 7, 9]),)"
      ]
     },
     "execution_count": 18,
     "metadata": {},
     "output_type": "execute_result"
    }
   ],
   "source": [
    "np.where(array_6_round>0.5) #Posición de los elementos"
   ]
  },
  {
   "cell_type": "markdown",
   "metadata": {},
   "source": [
    "7. Crea un array 1D con 40 valores del 1 al 100 (ambos incluidos). Obtén los elementos que son divisibles por 3 y por 4."
   ]
  },
  {
   "cell_type": "code",
   "execution_count": 19,
   "metadata": {},
   "outputs": [
    {
     "data": {
      "text/plain": [
       "array([74, 68, 67, 81,  2, 79, 82, 95, 48, 30, 14, 51,  7, 52, 76, 42,  9,\n",
       "       39, 86, 21,  1, 94, 21, 66, 42, 46, 33, 57, 58, 23, 20,  8, 58, 23,\n",
       "        5, 54, 85, 35, 12, 40])"
      ]
     },
     "execution_count": 19,
     "metadata": {},
     "output_type": "execute_result"
    }
   ],
   "source": [
    "array_7 = np.random.randint(1, 100, size=40)\n",
    "array_7"
   ]
  },
  {
   "cell_type": "code",
   "execution_count": 20,
   "metadata": {},
   "outputs": [
    {
     "data": {
      "text/plain": [
       "array([48, 12])"
      ]
     },
     "execution_count": 20,
     "metadata": {},
     "output_type": "execute_result"
    }
   ],
   "source": [
    "condicion = (array_7 % 3 == 0) & (array_7 % 4 == 0)\n",
    "array_7[condicion]"
   ]
  },
  {
   "cell_type": "markdown",
   "metadata": {},
   "source": [
    "# Reshape y Transpose"
   ]
  },
  {
   "cell_type": "markdown",
   "metadata": {},
   "source": [
    "### Ejercicios con reshape"
   ]
  },
  {
   "cell_type": "markdown",
   "metadata": {},
   "source": [
    "1. Crea un array 3D de forma (2, 3, 4) con valores aleatorios entre 1 y 100 (ambos inclusive). Utiliza reshape para convertirlo en un array 2D. Deberás pensar en la forma que es correcta para hacer este cambio."
   ]
  },
  {
   "cell_type": "code",
   "execution_count": 24,
   "metadata": {},
   "outputs": [
    {
     "data": {
      "text/plain": [
       "array([[[51, 82, 49, 13],\n",
       "        [25, 38, 86, 77],\n",
       "        [31, 86, 60, 34]],\n",
       "\n",
       "       [[78, 44, 59, 42],\n",
       "        [28, 65, 11, 44],\n",
       "        [22, 23, 88, 74]]])"
      ]
     },
     "execution_count": 24,
     "metadata": {},
     "output_type": "execute_result"
    }
   ],
   "source": [
    "array_8 = np.random.randint(1, 101, size=(2, 3, 4))\n",
    "array_8"
   ]
  },
  {
   "cell_type": "code",
   "execution_count": 25,
   "metadata": {},
   "outputs": [
    {
     "data": {
      "text/plain": [
       "array([[51, 82, 49, 13],\n",
       "       [25, 38, 86, 77],\n",
       "       [31, 86, 60, 34],\n",
       "       [78, 44, 59, 42],\n",
       "       [28, 65, 11, 44],\n",
       "       [22, 23, 88, 74]])"
      ]
     },
     "execution_count": 25,
     "metadata": {},
     "output_type": "execute_result"
    }
   ],
   "source": [
    "array_8.reshape(2*3, 4)"
   ]
  },
  {
   "cell_type": "code",
   "execution_count": 26,
   "metadata": {},
   "outputs": [
    {
     "data": {
      "text/plain": [
       "array([[51, 82, 49, 13, 25, 38, 86, 77, 31, 86, 60, 34],\n",
       "       [78, 44, 59, 42, 28, 65, 11, 44, 22, 23, 88, 74]])"
      ]
     },
     "execution_count": 26,
     "metadata": {},
     "output_type": "execute_result"
    }
   ],
   "source": [
    "array_8.reshape(2,3*4)"
   ]
  },
  {
   "cell_type": "markdown",
   "metadata": {},
   "source": [
    "2. Crea un array 3D de forma (3, 4, 5) con valores enteros del 1 al 60 (sin incluir). Utiliza reshape para convertirlo en un array 2D."
   ]
  },
  {
   "cell_type": "code",
   "execution_count": 28,
   "metadata": {},
   "outputs": [
    {
     "data": {
      "text/plain": [
       "array([[[41, 22, 24, 33, 22],\n",
       "        [14, 17, 17,  3,  5],\n",
       "        [56, 29, 58, 16, 54],\n",
       "        [18, 17, 53, 24,  8]],\n",
       "\n",
       "       [[28, 32, 22, 30, 18],\n",
       "        [19,  3,  2, 35, 57],\n",
       "        [34, 14, 23,  2, 13],\n",
       "        [19, 47, 49, 26, 31]],\n",
       "\n",
       "       [[18, 49, 30, 28, 53],\n",
       "        [20, 59, 53, 55, 44],\n",
       "        [34, 51,  7,  2, 54],\n",
       "        [47, 53,  0, 17,  3]]])"
      ]
     },
     "execution_count": 28,
     "metadata": {},
     "output_type": "execute_result"
    }
   ],
   "source": [
    "array_9 = np.random.randint(0, 60, size=(3, 4, 5))\n",
    "array_9"
   ]
  },
  {
   "cell_type": "code",
   "execution_count": 29,
   "metadata": {},
   "outputs": [
    {
     "data": {
      "text/plain": [
       "array([[41, 22, 24, 33, 22],\n",
       "       [14, 17, 17,  3,  5],\n",
       "       [56, 29, 58, 16, 54],\n",
       "       [18, 17, 53, 24,  8],\n",
       "       [28, 32, 22, 30, 18],\n",
       "       [19,  3,  2, 35, 57],\n",
       "       [34, 14, 23,  2, 13],\n",
       "       [19, 47, 49, 26, 31],\n",
       "       [18, 49, 30, 28, 53],\n",
       "       [20, 59, 53, 55, 44],\n",
       "       [34, 51,  7,  2, 54],\n",
       "       [47, 53,  0, 17,  3]])"
      ]
     },
     "execution_count": 29,
     "metadata": {},
     "output_type": "execute_result"
    }
   ],
   "source": [
    "array_9.reshape(3*4, 5)"
   ]
  },
  {
   "cell_type": "markdown",
   "metadata": {},
   "source": [
    "3. Crea un array 3D de forma (4, 3, 2) con valores aleatorios entre 0 y 1. Utiliza reshape para convertirlo en un array 2D."
   ]
  },
  {
   "cell_type": "code",
   "execution_count": 33,
   "metadata": {},
   "outputs": [
    {
     "data": {
      "text/plain": [
       "array([[[0.70044409, 0.44430755],\n",
       "        [0.29911979, 0.22204946],\n",
       "        [0.93983383, 0.79131446]],\n",
       "\n",
       "       [[0.36755198, 0.26627176],\n",
       "        [0.80544793, 0.11364624],\n",
       "        [0.18994621, 0.6950316 ]],\n",
       "\n",
       "       [[0.99746033, 0.60193826],\n",
       "        [0.00453413, 0.1972123 ],\n",
       "        [0.30572396, 0.83805428]],\n",
       "\n",
       "       [[0.96268589, 0.80432726],\n",
       "        [0.31273856, 0.20701063],\n",
       "        [0.87723842, 0.41212042]]])"
      ]
     },
     "execution_count": 33,
     "metadata": {},
     "output_type": "execute_result"
    }
   ],
   "source": [
    "array_10 = np.random.sample(size=(4, 3, 2))\n",
    "array_10"
   ]
  },
  {
   "cell_type": "code",
   "execution_count": 34,
   "metadata": {},
   "outputs": [
    {
     "data": {
      "text/plain": [
       "array([[0.70044409, 0.44430755],\n",
       "       [0.29911979, 0.22204946],\n",
       "       [0.93983383, 0.79131446],\n",
       "       [0.36755198, 0.26627176],\n",
       "       [0.80544793, 0.11364624],\n",
       "       [0.18994621, 0.6950316 ],\n",
       "       [0.99746033, 0.60193826],\n",
       "       [0.00453413, 0.1972123 ],\n",
       "       [0.30572396, 0.83805428],\n",
       "       [0.96268589, 0.80432726],\n",
       "       [0.31273856, 0.20701063],\n",
       "       [0.87723842, 0.41212042]])"
      ]
     },
     "execution_count": 34,
     "metadata": {},
     "output_type": "execute_result"
    }
   ],
   "source": [
    "array_10.reshape(4*3,2)"
   ]
  },
  {
   "cell_type": "markdown",
   "metadata": {},
   "source": [
    "### Ejercicios con reshape"
   ]
  },
  {
   "cell_type": "markdown",
   "metadata": {},
   "source": [
    "4. Utiliza el array 3D del ejercicio 2 de reshape. Utiliza transpose para permutar los ejes y obtener un nuevo array con forma (5, 4, 3)."
   ]
  },
  {
   "cell_type": "code",
   "execution_count": 36,
   "metadata": {},
   "outputs": [
    {
     "data": {
      "text/plain": [
       "array([[[41, 28, 18],\n",
       "        [14, 19, 20],\n",
       "        [56, 34, 34],\n",
       "        [18, 19, 47]],\n",
       "\n",
       "       [[22, 32, 49],\n",
       "        [17,  3, 59],\n",
       "        [29, 14, 51],\n",
       "        [17, 47, 53]],\n",
       "\n",
       "       [[24, 22, 30],\n",
       "        [17,  2, 53],\n",
       "        [58, 23,  7],\n",
       "        [53, 49,  0]],\n",
       "\n",
       "       [[33, 30, 28],\n",
       "        [ 3, 35, 55],\n",
       "        [16,  2,  2],\n",
       "        [24, 26, 17]],\n",
       "\n",
       "       [[22, 18, 53],\n",
       "        [ 5, 57, 44],\n",
       "        [54, 13, 54],\n",
       "        [ 8, 31,  3]]])"
      ]
     },
     "execution_count": 36,
     "metadata": {},
     "output_type": "execute_result"
    }
   ],
   "source": [
    "array_9.reshape(3, 4, 5).transpose(2, 1, 0)\n"
   ]
  },
  {
   "cell_type": "markdown",
   "metadata": {},
   "source": [
    "5. Utiliza el array 3D del ejercicio 3 de reshape. Utiliza transpose para cambiar el orden de los ejes y obtener un nuevo array con forma (3, 2, 4)."
   ]
  },
  {
   "cell_type": "code",
   "execution_count": 37,
   "metadata": {},
   "outputs": [
    {
     "data": {
      "text/plain": [
       "array([[[0.70044409, 0.36755198, 0.99746033, 0.96268589],\n",
       "        [0.44430755, 0.26627176, 0.60193826, 0.80432726]],\n",
       "\n",
       "       [[0.29911979, 0.80544793, 0.00453413, 0.31273856],\n",
       "        [0.22204946, 0.11364624, 0.1972123 , 0.20701063]],\n",
       "\n",
       "       [[0.93983383, 0.18994621, 0.30572396, 0.87723842],\n",
       "        [0.79131446, 0.6950316 , 0.83805428, 0.41212042]]])"
      ]
     },
     "execution_count": 37,
     "metadata": {},
     "output_type": "execute_result"
    }
   ],
   "source": [
    "array_10.reshape(4, 3, 2).transpose(1, 2, 0)"
   ]
  },
  {
   "cell_type": "markdown",
   "metadata": {},
   "source": [
    "### Preguntas teóricas:"
   ]
  },
  {
   "cell_type": "markdown",
   "metadata": {},
   "source": [
    "6. ¿Qué diferencia existe entre el reshape y el transpose?\n",
    "\n",
    "Reshape: es una función de NumPy que se utiliza para cambiar la forma de un *array* sin cambiar sus datos subyacentes. Permite reorganizar los elementos de un *array* en una nueva forma especificada por el usuario\n",
    "\n",
    "\n",
    "Transpose: Es una función de la biblioteca NumPy que se utiliza para intercambiar las dimensiones de un *array*. Toma como argumento un *array* y devuelve una nueva *array* con las dimensiones intercambiadas."
   ]
  },
  {
   "cell_type": "markdown",
   "metadata": {},
   "source": [
    "7. ¿Y entre el transpose y el swapaxes?\n",
    "\n",
    "Transpose: es una función de la biblioteca NumPy que se utiliza para intercambiar las dimensiones de un *array*. Toma como argumento un *array* y devuelve una nueva *array* con las dimensiones intercambiadas.\n",
    "\n",
    "Swapaxes: se utiliza para intercambiar dos ejes (dimensiones) específicos de un *array*. Permite reorganizar los ejes de un *array* sin cambiar los datos subyacentes."
   ]
  },
  {
   "cell_type": "markdown",
   "metadata": {},
   "source": [
    "# Funciones Aritméticas y Estadísticas"
   ]
  },
  {
   "cell_type": "markdown",
   "metadata": {},
   "source": [
    "1. Crea un array de tres 3D con elementos entre el 0 y 1 de forma (2, 3, 5) cuyos valores solo tengan 1 decimal."
   ]
  },
  {
   "cell_type": "code",
   "execution_count": 56,
   "metadata": {},
   "outputs": [
    {
     "data": {
      "text/plain": [
       "array([[[1. , 0.6, 0.1, 0.6, 0.4],\n",
       "        [0.8, 0.3, 0.9, 0.3, 0.9],\n",
       "        [0.9, 0.8, 0.7, 0.3, 0.3]],\n",
       "\n",
       "       [[0.1, 0.6, 0.6, 0.2, 0.1],\n",
       "        [0.6, 0.6, 1. , 0.1, 0.5],\n",
       "        [0.5, 0.9, 0.5, 0.9, 0.9]]])"
      ]
     },
     "execution_count": 56,
     "metadata": {},
     "output_type": "execute_result"
    }
   ],
   "source": [
    "array_1_1 = np.random.rand(2, 3, 5).round(1)\n",
    "array_1_1"
   ]
  },
  {
   "cell_type": "markdown",
   "metadata": {},
   "source": [
    "2. Crea un array vacío con la misma forma y dimensiones que el array creado anteriormente. Vamos a reemplazar los valores de la matriz vacía que nos acabamos de crear pero basándonos en los valores del primer array bajo las siguientes condiciones:\n",
    "- Si el valor del array es igual que la media, se reemplaza por \"A\".\n",
    "- Si el valor del array es mayor que la media, se reemplaza por \"B\".\n",
    "- Si el valor del array es menor que la media, se reemplaza por \"C\".\n",
    "- Si el valor es igual que el máximo, se reemplaza por \"D\".\n",
    "- Si el valor es igual que el mínimo, se reemplaza por \"E\"."
   ]
  },
  {
   "cell_type": "code",
   "execution_count": 54,
   "metadata": {},
   "outputs": [
    {
     "data": {
      "text/plain": [
       "array([[['', '', '', '', ''],\n",
       "        ['', '', '', '', ''],\n",
       "        ['', '', '', '', '']],\n",
       "\n",
       "       [['', '', '', '', ''],\n",
       "        ['', '', '', '', ''],\n",
       "        ['', '', '', '', '']]], dtype='<U1')"
      ]
     },
     "execution_count": 54,
     "metadata": {},
     "output_type": "execute_result"
    }
   ],
   "source": [
    "array_vacio = np.empty((2,3,5),dtype='str')\n",
    "array_vacio"
   ]
  },
  {
   "cell_type": "code",
   "execution_count": 62,
   "metadata": {},
   "outputs": [
    {
     "data": {
      "text/plain": [
       "0.5666666666666667"
      ]
     },
     "execution_count": 62,
     "metadata": {},
     "output_type": "execute_result"
    }
   ],
   "source": [
    "array_media = np.mean(array_1_1)\n",
    "array_media"
   ]
  },
  {
   "cell_type": "code",
   "execution_count": 63,
   "metadata": {},
   "outputs": [
    {
     "data": {
      "text/plain": [
       "0.1"
      ]
     },
     "execution_count": 63,
     "metadata": {},
     "output_type": "execute_result"
    }
   ],
   "source": [
    "array_min = np.min(array_1_1)\n",
    "array_min"
   ]
  },
  {
   "cell_type": "code",
   "execution_count": 64,
   "metadata": {},
   "outputs": [
    {
     "data": {
      "text/plain": [
       "1.0"
      ]
     },
     "execution_count": 64,
     "metadata": {},
     "output_type": "execute_result"
    }
   ],
   "source": [
    "array_max = np.max(array_1_1)\n",
    "array_max"
   ]
  },
  {
   "cell_type": "code",
   "execution_count": 66,
   "metadata": {},
   "outputs": [],
   "source": [
    "array_vacio[array_1_1 == array_media] = 'A'\n",
    "array_vacio[array_1_1 > array_media] = 'B'\n",
    "array_vacio[array_1_1 < array_media] = 'C'\n",
    "array_vacio[array_1_1 == array_max] = 'D'\n",
    "array_vacio[array_1_1 == array_min] = 'E'\n"
   ]
  },
  {
   "cell_type": "code",
   "execution_count": 67,
   "metadata": {},
   "outputs": [
    {
     "data": {
      "text/plain": [
       "array([[['D', 'B', 'E', 'B', 'C'],\n",
       "        ['B', 'C', 'B', 'C', 'B'],\n",
       "        ['B', 'B', 'B', 'C', 'C']],\n",
       "\n",
       "       [['E', 'B', 'B', 'C', 'E'],\n",
       "        ['B', 'B', 'D', 'E', 'C'],\n",
       "        ['C', 'B', 'C', 'B', 'B']]], dtype='<U1')"
      ]
     },
     "execution_count": 67,
     "metadata": {},
     "output_type": "execute_result"
    }
   ],
   "source": [
    "array_vacio"
   ]
  }
 ],
 "metadata": {
  "kernelspec": {
   "display_name": "base",
   "language": "python",
   "name": "python3"
  },
  "language_info": {
   "codemirror_mode": {
    "name": "ipython",
    "version": 3
   },
   "file_extension": ".py",
   "mimetype": "text/x-python",
   "name": "python",
   "nbconvert_exporter": "python",
   "pygments_lexer": "ipython3",
   "version": "3.9.0"
  }
 },
 "nbformat": 4,
 "nbformat_minor": 2
}
