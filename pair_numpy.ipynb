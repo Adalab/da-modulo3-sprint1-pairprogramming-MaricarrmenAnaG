{
 "cells": [
  {
   "cell_type": "code",
   "execution_count": 1,
   "metadata": {},
   "outputs": [],
   "source": [
    "import numpy as np\n",
    "import random"
   ]
  },
  {
   "cell_type": "markdown",
   "metadata": {},
   "source": [
    "# Creación y Indexación:"
   ]
  },
  {
   "cell_type": "markdown",
   "metadata": {},
   "source": [
    "1. Crea un array 1D con 50 valores aleatorio del 10 al 99. Accede a los elementos en las posiciones múltiplos de 5."
   ]
  },
  {
   "cell_type": "code",
   "execution_count": 17,
   "metadata": {},
   "outputs": [
    {
     "data": {
      "text/plain": [
       "array([31, 34, 64, 74, 10, 34, 59, 16, 34, 20, 15, 33, 58, 94, 67, 34, 62,\n",
       "       34, 41, 46, 59, 94, 41, 71, 97, 22, 50, 25, 38, 82, 38, 33, 54, 87,\n",
       "       20, 27, 89, 19, 43, 83, 50, 74, 80, 53, 45, 76, 56, 59, 66, 77])"
      ]
     },
     "execution_count": 17,
     "metadata": {},
     "output_type": "execute_result"
    }
   ],
   "source": [
    "array_1 = np.random.randint(10, 99, size=50)\n",
    "array_1"
   ]
  },
  {
   "cell_type": "code",
   "execution_count": 18,
   "metadata": {},
   "outputs": [
    {
     "data": {
      "text/plain": [
       "array([10, 20, 67, 46, 97, 82, 20, 83, 45, 77])"
      ]
     },
     "execution_count": 18,
     "metadata": {},
     "output_type": "execute_result"
    }
   ],
   "source": [
    "array_1_5 = array_1[0::5]\n",
    "array_1_5"
   ]
  },
  {
   "cell_type": "code",
   "execution_count": 19,
   "metadata": {},
   "outputs": [
    {
     "data": {
      "text/plain": [
       "array([10, 20, 15, 50, 25, 20, 50, 80, 45])"
      ]
     },
     "execution_count": 19,
     "metadata": {},
     "output_type": "execute_result"
    }
   ],
   "source": [
    "condicion = array_1 % 5 == 0\n",
    "array_1[condicion]"
   ]
  },
  {
   "cell_type": "markdown",
   "metadata": {},
   "source": [
    "2. Crea un array 1D con 30 valores del 1 al 20 (ambos incluidos). Utiliza indexación para obtener los elementos en las posiciones impares."
   ]
  },
  {
   "cell_type": "code",
   "execution_count": 20,
   "metadata": {},
   "outputs": [
    {
     "data": {
      "text/plain": [
       "array([ 1,  2, 18,  8, 10,  3, 20, 11,  7, 15, 16,  7, 11, 18,  5, 19, 19,\n",
       "       18, 18, 17,  4, 17,  6, 15, 17, 18, 15,  3,  6,  3])"
      ]
     },
     "execution_count": 20,
     "metadata": {},
     "output_type": "execute_result"
    }
   ],
   "source": [
    "array_2 = np.random.randint(1, 21, size=30)\n",
    "array_2"
   ]
  },
  {
   "cell_type": "code",
   "execution_count": 30,
   "metadata": {},
   "outputs": [
    {
     "data": {
      "text/plain": [
       "array([ 2,  8,  3, 11, 15,  7, 18, 19, 18, 17, 17, 15, 18,  3,  3])"
      ]
     },
     "execution_count": 30,
     "metadata": {},
     "output_type": "execute_result"
    }
   ],
   "source": [
    "array_2[1::2]"
   ]
  },
  {
   "cell_type": "markdown",
   "metadata": {},
   "source": [
    "3. Crea un array 2D de forma (4, 6) con números aleatorios decimales (no deben estar comprendidos solo entre 0 y 1). Accede a la última fila de la matriz. Los decimales deben estar redondeados a 2 decimales."
   ]
  },
  {
   "cell_type": "code",
   "execution_count": 3,
   "metadata": {},
   "outputs": [
    {
     "data": {
      "text/plain": [
       "array([[0.51546295, 0.87908157, 0.5374099 , 0.09193773, 0.87722527,\n",
       "        0.73777932],\n",
       "       [0.78117998, 0.72306508, 0.39647567, 0.19842357, 0.26849983,\n",
       "        0.71843509],\n",
       "       [0.03980042, 0.45071225, 0.27279674, 0.32400746, 0.42137638,\n",
       "        0.84169406],\n",
       "       [0.68387998, 0.63897452, 0.57181023, 0.64971248, 0.09706406,\n",
       "        0.30008575]])"
      ]
     },
     "execution_count": 3,
     "metadata": {},
     "output_type": "execute_result"
    }
   ],
   "source": [
    "array_3 = np.random.random_sample((4,6))\n",
    "array_3"
   ]
  },
  {
   "cell_type": "code",
   "execution_count": 4,
   "metadata": {},
   "outputs": [
    {
     "data": {
      "text/plain": [
       "array([[0.52, 0.88, 0.54, 0.09, 0.88, 0.74],\n",
       "       [0.78, 0.72, 0.4 , 0.2 , 0.27, 0.72],\n",
       "       [0.04, 0.45, 0.27, 0.32, 0.42, 0.84],\n",
       "       [0.68, 0.64, 0.57, 0.65, 0.1 , 0.3 ]])"
      ]
     },
     "execution_count": 4,
     "metadata": {},
     "output_type": "execute_result"
    }
   ],
   "source": [
    "array_3_round = np.round(array_3, 2)\n",
    "array_3_round"
   ]
  },
  {
   "cell_type": "code",
   "execution_count": 5,
   "metadata": {},
   "outputs": [
    {
     "data": {
      "text/plain": [
       "array([4.68, 4.64, 4.57, 4.65, 4.1 , 4.3 ])"
      ]
     },
     "execution_count": 5,
     "metadata": {},
     "output_type": "execute_result"
    }
   ],
   "source": [
    "(array_3_round + 4)[-1]"
   ]
  },
  {
   "cell_type": "markdown",
   "metadata": {},
   "source": [
    "4. Crea un array NumPy 2D de forma (6, 4) con valores decimales entre 0 y 1. Accede a la segunda columna de la matriz. Los números deben estar redondeados a 2 decimales."
   ]
  },
  {
   "cell_type": "code",
   "execution_count": 43,
   "metadata": {},
   "outputs": [
    {
     "data": {
      "text/plain": [
       "array([[0.63497207, 0.16142692, 0.34521354, 0.42301881],\n",
       "       [0.58784827, 0.46243581, 0.02810132, 0.29989571],\n",
       "       [0.18461122, 0.00850362, 0.35680854, 0.99291984],\n",
       "       [0.03992472, 0.27695721, 0.45224617, 0.14355969],\n",
       "       [0.0100103 , 0.12842719, 0.48907616, 0.01197747],\n",
       "       [0.75955434, 0.25621831, 0.78743948, 0.56589438]])"
      ]
     },
     "execution_count": 43,
     "metadata": {},
     "output_type": "execute_result"
    }
   ],
   "source": [
    "array_4 = np.random.random_sample((6,4))\n",
    "array_4"
   ]
  },
  {
   "cell_type": "code",
   "execution_count": 55,
   "metadata": {},
   "outputs": [
    {
     "data": {
      "text/plain": [
       "array([0.16, 0.46, 0.01, 0.28, 0.13, 0.26])"
      ]
     },
     "execution_count": 55,
     "metadata": {},
     "output_type": "execute_result"
    }
   ],
   "source": [
    "np.around(array_4, 2)[:, 1]"
   ]
  }
 ],
 "metadata": {
  "kernelspec": {
   "display_name": "base",
   "language": "python",
   "name": "python3"
  },
  "language_info": {
   "codemirror_mode": {
    "name": "ipython",
    "version": 3
   },
   "file_extension": ".py",
   "mimetype": "text/x-python",
   "name": "python",
   "nbconvert_exporter": "python",
   "pygments_lexer": "ipython3",
   "version": "3.9.7"
  }
 },
 "nbformat": 4,
 "nbformat_minor": 2
}
